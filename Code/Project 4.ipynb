{
 "cells": [
  {
   "cell_type": "code",
   "execution_count": 107,
   "id": "b08398ed",
   "metadata": {},
   "outputs": [],
   "source": [
    "#Standard libs\n",
    "import numpy as np \n",
    "import pandas as pd \n",
    "\n",
    "#Feature engineering, metrics and modeling libs\n",
    "from sklearn.tree import DecisionTreeRegressor\n",
    "from sklearn.metrics import mean_absolute_error\n",
    "from sklearn.model_selection import train_test_split\n",
    "from sklearn.model_selection import cross_val_score\n",
    "from sklearn.ensemble import RandomForestRegressor\n",
    "from sklearn.metrics import accuracy_score"
   ]
  },
  {
   "cell_type": "code",
   "execution_count": 108,
   "id": "eea67439",
   "metadata": {},
   "outputs": [],
   "source": [
    "abalone = pd.read_csv(\"Abalone.csv\")"
   ]
  },
  {
   "cell_type": "code",
   "execution_count": 109,
   "id": "c1a07b32",
   "metadata": {},
   "outputs": [
    {
     "data": {
      "text/html": [
       "<div>\n",
       "<style scoped>\n",
       "    .dataframe tbody tr th:only-of-type {\n",
       "        vertical-align: middle;\n",
       "    }\n",
       "\n",
       "    .dataframe tbody tr th {\n",
       "        vertical-align: top;\n",
       "    }\n",
       "\n",
       "    .dataframe thead th {\n",
       "        text-align: right;\n",
       "    }\n",
       "</style>\n",
       "<table border=\"1\" class=\"dataframe\">\n",
       "  <thead>\n",
       "    <tr style=\"text-align: right;\">\n",
       "      <th></th>\n",
       "      <th>Sex</th>\n",
       "      <th>Length</th>\n",
       "      <th>Diameter</th>\n",
       "      <th>Height</th>\n",
       "      <th>Whole weight</th>\n",
       "      <th>Shucked weight</th>\n",
       "      <th>Viscera weight</th>\n",
       "      <th>Shell weight</th>\n",
       "      <th>Rings</th>\n",
       "    </tr>\n",
       "  </thead>\n",
       "  <tbody>\n",
       "    <tr>\n",
       "      <th>0</th>\n",
       "      <td>M</td>\n",
       "      <td>0.455</td>\n",
       "      <td>0.365</td>\n",
       "      <td>0.095</td>\n",
       "      <td>0.5140</td>\n",
       "      <td>0.2245</td>\n",
       "      <td>0.1010</td>\n",
       "      <td>0.150</td>\n",
       "      <td>15</td>\n",
       "    </tr>\n",
       "    <tr>\n",
       "      <th>1</th>\n",
       "      <td>M</td>\n",
       "      <td>0.350</td>\n",
       "      <td>0.265</td>\n",
       "      <td>0.090</td>\n",
       "      <td>0.2255</td>\n",
       "      <td>0.0995</td>\n",
       "      <td>0.0485</td>\n",
       "      <td>0.070</td>\n",
       "      <td>7</td>\n",
       "    </tr>\n",
       "    <tr>\n",
       "      <th>2</th>\n",
       "      <td>F</td>\n",
       "      <td>0.530</td>\n",
       "      <td>0.420</td>\n",
       "      <td>0.135</td>\n",
       "      <td>0.6770</td>\n",
       "      <td>0.2565</td>\n",
       "      <td>0.1415</td>\n",
       "      <td>0.210</td>\n",
       "      <td>9</td>\n",
       "    </tr>\n",
       "    <tr>\n",
       "      <th>3</th>\n",
       "      <td>M</td>\n",
       "      <td>0.440</td>\n",
       "      <td>0.365</td>\n",
       "      <td>0.125</td>\n",
       "      <td>0.5160</td>\n",
       "      <td>0.2155</td>\n",
       "      <td>0.1140</td>\n",
       "      <td>0.155</td>\n",
       "      <td>10</td>\n",
       "    </tr>\n",
       "    <tr>\n",
       "      <th>4</th>\n",
       "      <td>I</td>\n",
       "      <td>0.330</td>\n",
       "      <td>0.255</td>\n",
       "      <td>0.080</td>\n",
       "      <td>0.2050</td>\n",
       "      <td>0.0895</td>\n",
       "      <td>0.0395</td>\n",
       "      <td>0.055</td>\n",
       "      <td>7</td>\n",
       "    </tr>\n",
       "  </tbody>\n",
       "</table>\n",
       "</div>"
      ],
      "text/plain": [
       "  Sex  Length  Diameter  Height  Whole weight  Shucked weight  Viscera weight  \\\n",
       "0   M   0.455     0.365   0.095        0.5140          0.2245          0.1010   \n",
       "1   M   0.350     0.265   0.090        0.2255          0.0995          0.0485   \n",
       "2   F   0.530     0.420   0.135        0.6770          0.2565          0.1415   \n",
       "3   M   0.440     0.365   0.125        0.5160          0.2155          0.1140   \n",
       "4   I   0.330     0.255   0.080        0.2050          0.0895          0.0395   \n",
       "\n",
       "   Shell weight  Rings  \n",
       "0         0.150     15  \n",
       "1         0.070      7  \n",
       "2         0.210      9  \n",
       "3         0.155     10  \n",
       "4         0.055      7  "
      ]
     },
     "execution_count": 109,
     "metadata": {},
     "output_type": "execute_result"
    }
   ],
   "source": [
    "abalone.head()"
   ]
  },
  {
   "cell_type": "code",
   "execution_count": 110,
   "id": "ef73cda9",
   "metadata": {},
   "outputs": [
    {
     "name": "stdout",
     "output_type": "stream",
     "text": [
      "<class 'pandas.core.frame.DataFrame'>\n",
      "RangeIndex: 4177 entries, 0 to 4176\n",
      "Data columns (total 9 columns):\n",
      " #   Column          Non-Null Count  Dtype  \n",
      "---  ------          --------------  -----  \n",
      " 0   Sex             4177 non-null   object \n",
      " 1   Length          4177 non-null   float64\n",
      " 2   Diameter        4177 non-null   float64\n",
      " 3   Height          4177 non-null   float64\n",
      " 4   Whole weight    4177 non-null   float64\n",
      " 5   Shucked weight  4177 non-null   float64\n",
      " 6   Viscera weight  4177 non-null   float64\n",
      " 7   Shell weight    4177 non-null   float64\n",
      " 8   Rings           4177 non-null   int64  \n",
      "dtypes: float64(7), int64(1), object(1)\n",
      "memory usage: 293.8+ KB\n"
     ]
    }
   ],
   "source": [
    "abalone.info()"
   ]
  },
  {
   "cell_type": "code",
   "execution_count": 111,
   "id": "01520925",
   "metadata": {},
   "outputs": [
    {
     "data": {
      "text/plain": [
       "(4177, 9)"
      ]
     },
     "execution_count": 111,
     "metadata": {},
     "output_type": "execute_result"
    }
   ],
   "source": [
    "abalone.describe()\n",
    "abalone.shape"
   ]
  },
  {
   "cell_type": "code",
   "execution_count": 112,
   "id": "bd1ff55a",
   "metadata": {},
   "outputs": [
    {
     "data": {
      "text/plain": [
       "4177"
      ]
     },
     "execution_count": 112,
     "metadata": {},
     "output_type": "execute_result"
    }
   ],
   "source": [
    "len(abalone.isnull())"
   ]
  },
  {
   "cell_type": "code",
   "execution_count": 113,
   "id": "d4379387",
   "metadata": {},
   "outputs": [
    {
     "name": "stdout",
     "output_type": "stream",
     "text": [
      "Rings             1.000000\n",
      "Shell weight      0.627574\n",
      "Diameter          0.574660\n",
      "Height            0.557467\n",
      "Length            0.556720\n",
      "Whole weight      0.540390\n",
      "Viscera weight    0.503819\n",
      "Shucked weight    0.420884\n",
      "Name: Rings, dtype: float64\n"
     ]
    }
   ],
   "source": [
    "#menganalisa variabel yang memiliki korelasi dengan variabel lain\n",
    "numeric_features = abalone.select_dtypes(include=[np.number])\n",
    "correlation = numeric_features.corr()\n",
    "print(correlation['Rings'].sort_values(ascending=False))"
   ]
  },
  {
   "cell_type": "code",
   "execution_count": 114,
   "id": "b77dbe1b",
   "metadata": {},
   "outputs": [
    {
     "name": "stdout",
     "output_type": "stream",
     "text": [
      "        Length  Diameter    Height  Whole weight  Shucked weight  \\\n",
      "0     0.574558  0.432149  1.064424      0.641898        0.607685   \n",
      "1     1.448986  1.439929  1.183978      1.230277        1.170910   \n",
      "2     0.050033  0.122130  0.107991      0.309469        0.463500   \n",
      "3     0.699476  0.432149  0.347099      0.637819        0.648238   \n",
      "4     1.615544  1.540707  1.423087      1.272086        1.215968   \n",
      "...        ...       ...       ...           ...             ...   \n",
      "4172  0.341509  0.424464  0.609334      0.118813        0.047908   \n",
      "4173  0.549706  0.323686  0.107991      0.279929        0.358808   \n",
      "4174  0.632985  0.676409  1.565767      0.708212        0.748559   \n",
      "4175  0.841182  0.777187  0.250672      0.541998        0.773341   \n",
      "4176  1.549052  1.482634  1.326659      2.283681        2.640993   \n",
      "\n",
      "      Viscera weight  Shell weight     Rings  \n",
      "0           0.726212      0.638217  1.571544  \n",
      "1           1.205221      1.212987  0.910013  \n",
      "2           0.356690      0.207139  0.289624  \n",
      "3           0.607600      0.602294  0.020571  \n",
      "4           1.287337      1.320757  0.910013  \n",
      "...              ...           ...       ...  \n",
      "4172        0.532900      0.073062  0.330765  \n",
      "4173        0.309362      0.155685  0.020571  \n",
      "4174        0.975413      0.496955  0.289624  \n",
      "4175        0.733627      0.410739  0.020571  \n",
      "4176        1.787449      1.840481  0.640960  \n",
      "\n",
      "[4177 rows x 8 columns]\n"
     ]
    }
   ],
   "source": [
    "#Data Cleaning\n",
    "from scipy import stats\n",
    "z= np.abs(stats.zscore(abalone.select_dtypes(include=[np.number])))\n",
    "print(z)\n",
    "abalone_o = abalone[(z < 3).all(axis=1)]"
   ]
  },
  {
   "cell_type": "code",
   "execution_count": 115,
   "id": "7eba978b",
   "metadata": {},
   "outputs": [],
   "source": [
    "#encoding\n",
    "#Membuat binary kolom yang menunjukkan setiap nilai pada dataset\n",
    "#dikarenakan model tidak bisa membaca  'M', 'F' atau 'I' ketika proses ini berlangsung\n",
    "low_cardinality_cols = [cname for cname in abalone_o.columns if\n",
    "                        abalone_o[cname].nunique() < 10 and \n",
    "                       abalone_o[cname].dtype == \"object\"]\n",
    "numeric_cols = [cname for cname in abalone_o.columns if\n",
    "                                 abalone_o[cname].dtype in ['int64','float64']]\n",
    "\n",
    "my_cols = low_cardinality_cols + numeric_cols\n",
    "abalone_predictors = abalone_o[my_cols]"
   ]
  },
  {
   "cell_type": "code",
   "execution_count": 116,
   "id": "c287c001",
   "metadata": {},
   "outputs": [
    {
     "data": {
      "text/plain": [
       "Sex                object\n",
       "Length            float64\n",
       "Rings               int64\n",
       "Whole weight      float64\n",
       "Shucked weight    float64\n",
       "Diameter          float64\n",
       "Shell weight      float64\n",
       "dtype: object"
      ]
     },
     "execution_count": 116,
     "metadata": {},
     "output_type": "execute_result"
    }
   ],
   "source": [
    "abalone_predictors.dtypes.sample(7)"
   ]
  },
  {
   "cell_type": "code",
   "execution_count": 141,
   "id": "0806eb6b",
   "metadata": {},
   "outputs": [],
   "source": [
    "#membuat 3 kolom baru yaitu fitur M', 'F' dan 'I'\n",
    "abalone_encoded_predictors = pd.get_dummies(abalone_predictors)"
   ]
  },
  {
   "cell_type": "code",
   "execution_count": 118,
   "id": "7d198612",
   "metadata": {},
   "outputs": [
    {
     "name": "stdout",
     "output_type": "stream",
     "text": [
      "MAE 1.950023\n"
     ]
    }
   ],
   "source": [
    "from sklearn.pipeline import make_pipeline\n",
    "cross_cols = ['Length','Diameter','Height','Whole weight','Shucked weight','Viscera weight','Shell weight','Sex_F','Sex_I','Sex_M']\n",
    "X = abalone_encoded_predictors[cross_cols]\n",
    "y = abalone_encoded_predictors.Rings\n",
    "\n",
    "decision_pipeline = make_pipeline(DecisionTreeRegressor())\n",
    "decision_scores = cross_val_score(decision_pipeline, X,y,scoring='neg_mean_absolute_error')\n",
    "\n",
    "print('MAE %2f' %(-1 * decision_scores.mean()))"
   ]
  },
  {
   "cell_type": "code",
   "execution_count": 119,
   "id": "fa94b785",
   "metadata": {},
   "outputs": [],
   "source": [
    "#melakukan pembagian data set training dan testing\n",
    "dt_train_X,dt_test_X,dt_train_y,dt_test_y = train_test_split(X,y)"
   ]
  },
  {
   "cell_type": "code",
   "execution_count": 120,
   "id": "6deb9130",
   "metadata": {},
   "outputs": [],
   "source": [
    "#Decision tree mampu menentukan variasi dan berapa panyak leaf nodes yang diproduksi dan mennghasilkan hasil yang terbaik\n",
    "def get_mae(max_leaf_nodes,dt_train_X,dt_test_X,dt_train_y,dt_test_y ):\n",
    "    model_pipeline = make_pipeline(DecisionTreeRegressor(max_leaf_nodes=max_leaf_nodes,random_state=0))\n",
    "    model_pipeline.fit(dt_train_X,dt_train_y)\n",
    "    preds_val = model_pipeline.predict(dt_test_X)\n",
    "    mae = mean_absolute_error(dt_test_y,preds_val)\n",
    "    return(mae)"
   ]
  },
  {
   "cell_type": "code",
   "execution_count": 121,
   "id": "3e8fdd59",
   "metadata": {},
   "outputs": [
    {
     "name": "stdout",
     "output_type": "stream",
     "text": [
      "MAE: 1.688271496150728\n"
     ]
    }
   ],
   "source": [
    "#Membuat pipeline untuk menentukan return mean absolute error\n",
    "decision_split_pipeline = make_pipeline(DecisionTreeRegressor(max_leaf_nodes=5))\n",
    "decision_split_pipeline.fit(dt_train_X,dt_train_y)\n",
    "decision_tree_prediction = decision_split_pipeline.predict(dt_test_X)\n",
    "print(\"MAE: \" + str(mean_absolute_error(decision_tree_prediction,dt_test_y)))"
   ]
  },
  {
   "cell_type": "code",
   "execution_count": 122,
   "id": "3b6ef2cd",
   "metadata": {},
   "outputs": [
    {
     "name": "stdout",
     "output_type": "stream",
     "text": [
      "Acc: 0.3714352010728543\n"
     ]
    }
   ],
   "source": [
    "acc_decision = decision_split_pipeline.score(dt_test_X,dt_test_y)\n",
    "print(\"Acc:\", acc_decision )"
   ]
  },
  {
   "cell_type": "code",
   "execution_count": 123,
   "id": "cd6e729f",
   "metadata": {},
   "outputs": [
    {
     "name": "stdout",
     "output_type": "stream",
     "text": [
      "MAE 1.473488\n"
     ]
    }
   ],
   "source": [
    "#Random Forest\n",
    "forest_pipeline = make_pipeline(RandomForestRegressor(random_state=1))\n",
    "forest_scores = cross_val_score(forest_pipeline, X,y,scoring=\"neg_mean_absolute_error\")\n",
    "print('MAE %2f' %(-1 * forest_scores.mean()))"
   ]
  },
  {
   "cell_type": "code",
   "execution_count": 124,
   "id": "6dc2a005",
   "metadata": {},
   "outputs": [
    {
     "name": "stdout",
     "output_type": "stream",
     "text": [
      "Accuracy: 0.5516220619492421\n",
      "MAE: 1.444498510427011\n"
     ]
    }
   ],
   "source": [
    "#Pada Random Forest memiliki akurasi 55%, lebih tinggi daripada Decision tree\n",
    "f_train_X,f_test_X,f_train_y,f_test_y = train_test_split(X,y)\n",
    "forest_split_pipeline = make_pipeline(RandomForestRegressor(random_state=1))\n",
    "forest_split_pipeline.fit(f_train_X,f_train_y)\n",
    "forest_predictions = forest_split_pipeline.predict(f_test_X)\n",
    "print(\"Accuracy:\",forest_split_pipeline.score(f_test_X,f_test_y))\n",
    "print(\"MAE:\",str(mean_absolute_error(forest_predictions,f_test_y)))"
   ]
  },
  {
   "cell_type": "code",
   "execution_count": 125,
   "id": "8a9f8cb1",
   "metadata": {},
   "outputs": [
    {
     "data": {
      "text/html": [
       "<div>\n",
       "<style scoped>\n",
       "    .dataframe tbody tr th:only-of-type {\n",
       "        vertical-align: middle;\n",
       "    }\n",
       "\n",
       "    .dataframe tbody tr th {\n",
       "        vertical-align: top;\n",
       "    }\n",
       "\n",
       "    .dataframe thead th {\n",
       "        text-align: right;\n",
       "    }\n",
       "</style>\n",
       "<table border=\"1\" class=\"dataframe\">\n",
       "  <thead>\n",
       "    <tr style=\"text-align: right;\">\n",
       "      <th></th>\n",
       "      <th>Length</th>\n",
       "      <th>Diameter</th>\n",
       "      <th>Height</th>\n",
       "      <th>Whole weight</th>\n",
       "      <th>Shucked weight</th>\n",
       "      <th>Viscera weight</th>\n",
       "      <th>Shell weight</th>\n",
       "      <th>Rings</th>\n",
       "      <th>Sex_F</th>\n",
       "      <th>Sex_I</th>\n",
       "      <th>Sex_M</th>\n",
       "    </tr>\n",
       "  </thead>\n",
       "  <tbody>\n",
       "    <tr>\n",
       "      <th>0</th>\n",
       "      <td>0.455</td>\n",
       "      <td>0.365</td>\n",
       "      <td>0.095</td>\n",
       "      <td>0.514</td>\n",
       "      <td>0.2245</td>\n",
       "      <td>0.101</td>\n",
       "      <td>0.15</td>\n",
       "      <td>15</td>\n",
       "      <td>0</td>\n",
       "      <td>0</td>\n",
       "      <td>1</td>\n",
       "    </tr>\n",
       "  </tbody>\n",
       "</table>\n",
       "</div>"
      ],
      "text/plain": [
       "   Length  Diameter  Height  Whole weight  Shucked weight  Viscera weight  \\\n",
       "0   0.455     0.365   0.095         0.514          0.2245           0.101   \n",
       "\n",
       "   Shell weight  Rings  Sex_F  Sex_I  Sex_M  \n",
       "0          0.15     15      0      0      1  "
      ]
     },
     "execution_count": 125,
     "metadata": {},
     "output_type": "execute_result"
    }
   ],
   "source": [
    "#Logistic Regresi\n",
    "one_hot_encoders_abalone_df =  pd.get_dummies(abalone)\n",
    "cols = one_hot_encoders_abalone_df.columns\n",
    "abalone_clean_data = pd.DataFrame(one_hot_encoders_abalone_df,columns= cols)\n",
    "abalone_clean_data.head(1)"
   ]
  },
  {
   "cell_type": "code",
   "execution_count": 126,
   "id": "153866b9",
   "metadata": {},
   "outputs": [],
   "source": [
    "#Scaling\n",
    "#mengubah data menjadi data yang memiliki nilai rata-rata distribusi=0 dan standar deviasi=1\n",
    "from sklearn.preprocessing import StandardScaler\n",
    "sc_X = StandardScaler()\n",
    "scaled_data =  pd.DataFrame(\n",
    "    sc_X.fit_transform(abalone_clean_data[['Length','Diameter','Height','Whole weight','Shucked weight','Viscera weight']]),\n",
    "                           columns=['Length','Diameter','Height','Whole weight','Shucked weight','Viscera weight'],\n",
    "                           index=abalone_clean_data.index)"
   ]
  },
  {
   "cell_type": "code",
   "execution_count": 128,
   "id": "179b2f05",
   "metadata": {},
   "outputs": [
    {
     "data": {
      "text/html": [
       "<div>\n",
       "<style scoped>\n",
       "    .dataframe tbody tr th:only-of-type {\n",
       "        vertical-align: middle;\n",
       "    }\n",
       "\n",
       "    .dataframe tbody tr th {\n",
       "        vertical-align: top;\n",
       "    }\n",
       "\n",
       "    .dataframe thead th {\n",
       "        text-align: right;\n",
       "    }\n",
       "</style>\n",
       "<table border=\"1\" class=\"dataframe\">\n",
       "  <thead>\n",
       "    <tr style=\"text-align: right;\">\n",
       "      <th></th>\n",
       "      <th>Length</th>\n",
       "      <th>Diameter</th>\n",
       "      <th>Height</th>\n",
       "      <th>Whole weight</th>\n",
       "      <th>Shucked weight</th>\n",
       "      <th>Viscera weight</th>\n",
       "    </tr>\n",
       "  </thead>\n",
       "  <tbody>\n",
       "    <tr>\n",
       "      <th>0</th>\n",
       "      <td>-0.574558</td>\n",
       "      <td>-0.432149</td>\n",
       "      <td>-1.064424</td>\n",
       "      <td>-0.641898</td>\n",
       "      <td>-0.607685</td>\n",
       "      <td>-0.726212</td>\n",
       "    </tr>\n",
       "    <tr>\n",
       "      <th>1</th>\n",
       "      <td>-1.448986</td>\n",
       "      <td>-1.439929</td>\n",
       "      <td>-1.183978</td>\n",
       "      <td>-1.230277</td>\n",
       "      <td>-1.170910</td>\n",
       "      <td>-1.205221</td>\n",
       "    </tr>\n",
       "    <tr>\n",
       "      <th>2</th>\n",
       "      <td>0.050033</td>\n",
       "      <td>0.122130</td>\n",
       "      <td>-0.107991</td>\n",
       "      <td>-0.309469</td>\n",
       "      <td>-0.463500</td>\n",
       "      <td>-0.356690</td>\n",
       "    </tr>\n",
       "    <tr>\n",
       "      <th>3</th>\n",
       "      <td>-0.699476</td>\n",
       "      <td>-0.432149</td>\n",
       "      <td>-0.347099</td>\n",
       "      <td>-0.637819</td>\n",
       "      <td>-0.648238</td>\n",
       "      <td>-0.607600</td>\n",
       "    </tr>\n",
       "    <tr>\n",
       "      <th>4</th>\n",
       "      <td>-1.615544</td>\n",
       "      <td>-1.540707</td>\n",
       "      <td>-1.423087</td>\n",
       "      <td>-1.272086</td>\n",
       "      <td>-1.215968</td>\n",
       "      <td>-1.287337</td>\n",
       "    </tr>\n",
       "  </tbody>\n",
       "</table>\n",
       "</div>"
      ],
      "text/plain": [
       "     Length  Diameter    Height  Whole weight  Shucked weight  Viscera weight\n",
       "0 -0.574558 -0.432149 -1.064424     -0.641898       -0.607685       -0.726212\n",
       "1 -1.448986 -1.439929 -1.183978     -1.230277       -1.170910       -1.205221\n",
       "2  0.050033  0.122130 -0.107991     -0.309469       -0.463500       -0.356690\n",
       "3 -0.699476 -0.432149 -0.347099     -0.637819       -0.648238       -0.607600\n",
       "4 -1.615544 -1.540707 -1.423087     -1.272086       -1.215968       -1.287337"
      ]
     },
     "execution_count": 128,
     "metadata": {},
     "output_type": "execute_result"
    }
   ],
   "source": [
    "scaled_data.head()"
   ]
  },
  {
   "cell_type": "code",
   "execution_count": 129,
   "id": "9c893dab",
   "metadata": {},
   "outputs": [
    {
     "data": {
      "text/html": [
       "<div>\n",
       "<style scoped>\n",
       "    .dataframe tbody tr th:only-of-type {\n",
       "        vertical-align: middle;\n",
       "    }\n",
       "\n",
       "    .dataframe tbody tr th {\n",
       "        vertical-align: top;\n",
       "    }\n",
       "\n",
       "    .dataframe thead th {\n",
       "        text-align: right;\n",
       "    }\n",
       "</style>\n",
       "<table border=\"1\" class=\"dataframe\">\n",
       "  <thead>\n",
       "    <tr style=\"text-align: right;\">\n",
       "      <th></th>\n",
       "      <th>Length</th>\n",
       "      <th>Diameter</th>\n",
       "      <th>Height</th>\n",
       "      <th>Whole weight</th>\n",
       "      <th>Shucked weight</th>\n",
       "      <th>Viscera weight</th>\n",
       "      <th>Shell weight</th>\n",
       "      <th>Rings</th>\n",
       "      <th>Sex_F</th>\n",
       "      <th>Sex_I</th>\n",
       "      <th>Sex_M</th>\n",
       "    </tr>\n",
       "  </thead>\n",
       "  <tbody>\n",
       "    <tr>\n",
       "      <th>0</th>\n",
       "      <td>-0.574558</td>\n",
       "      <td>-0.432149</td>\n",
       "      <td>-1.064424</td>\n",
       "      <td>-0.641898</td>\n",
       "      <td>-0.607685</td>\n",
       "      <td>-0.726212</td>\n",
       "      <td>0.150</td>\n",
       "      <td>15</td>\n",
       "      <td>0</td>\n",
       "      <td>0</td>\n",
       "      <td>1</td>\n",
       "    </tr>\n",
       "    <tr>\n",
       "      <th>1</th>\n",
       "      <td>-1.448986</td>\n",
       "      <td>-1.439929</td>\n",
       "      <td>-1.183978</td>\n",
       "      <td>-1.230277</td>\n",
       "      <td>-1.170910</td>\n",
       "      <td>-1.205221</td>\n",
       "      <td>0.070</td>\n",
       "      <td>7</td>\n",
       "      <td>0</td>\n",
       "      <td>0</td>\n",
       "      <td>1</td>\n",
       "    </tr>\n",
       "    <tr>\n",
       "      <th>2</th>\n",
       "      <td>0.050033</td>\n",
       "      <td>0.122130</td>\n",
       "      <td>-0.107991</td>\n",
       "      <td>-0.309469</td>\n",
       "      <td>-0.463500</td>\n",
       "      <td>-0.356690</td>\n",
       "      <td>0.210</td>\n",
       "      <td>9</td>\n",
       "      <td>1</td>\n",
       "      <td>0</td>\n",
       "      <td>0</td>\n",
       "    </tr>\n",
       "    <tr>\n",
       "      <th>3</th>\n",
       "      <td>-0.699476</td>\n",
       "      <td>-0.432149</td>\n",
       "      <td>-0.347099</td>\n",
       "      <td>-0.637819</td>\n",
       "      <td>-0.648238</td>\n",
       "      <td>-0.607600</td>\n",
       "      <td>0.155</td>\n",
       "      <td>10</td>\n",
       "      <td>0</td>\n",
       "      <td>0</td>\n",
       "      <td>1</td>\n",
       "    </tr>\n",
       "    <tr>\n",
       "      <th>4</th>\n",
       "      <td>-1.615544</td>\n",
       "      <td>-1.540707</td>\n",
       "      <td>-1.423087</td>\n",
       "      <td>-1.272086</td>\n",
       "      <td>-1.215968</td>\n",
       "      <td>-1.287337</td>\n",
       "      <td>0.055</td>\n",
       "      <td>7</td>\n",
       "      <td>0</td>\n",
       "      <td>1</td>\n",
       "      <td>0</td>\n",
       "    </tr>\n",
       "  </tbody>\n",
       "</table>\n",
       "</div>"
      ],
      "text/plain": [
       "     Length  Diameter    Height  Whole weight  Shucked weight  Viscera weight  \\\n",
       "0 -0.574558 -0.432149 -1.064424     -0.641898       -0.607685       -0.726212   \n",
       "1 -1.448986 -1.439929 -1.183978     -1.230277       -1.170910       -1.205221   \n",
       "2  0.050033  0.122130 -0.107991     -0.309469       -0.463500       -0.356690   \n",
       "3 -0.699476 -0.432149 -0.347099     -0.637819       -0.648238       -0.607600   \n",
       "4 -1.615544 -1.540707 -1.423087     -1.272086       -1.215968       -1.287337   \n",
       "\n",
       "   Shell weight  Rings  Sex_F  Sex_I  Sex_M  \n",
       "0         0.150     15      0      0      1  \n",
       "1         0.070      7      0      0      1  \n",
       "2         0.210      9      1      0      0  \n",
       "3         0.155     10      0      0      1  \n",
       "4         0.055      7      0      1      0  "
      ]
     },
     "execution_count": 129,
     "metadata": {},
     "output_type": "execute_result"
    }
   ],
   "source": [
    "#Data Cleaning\n",
    "abalone_clean_data_standard = abalone_clean_data.copy(deep=True)\n",
    "abalone_clean_data_standard[['Length','Diameter','Height','Whole weight','Shucked weight','Viscera weight']] = scaled_data[['Length','Diameter','Height','Whole weight','Shucked weight','Viscera weight']]\n",
    "abalone_clean_data_standard.head()"
   ]
  },
  {
   "cell_type": "code",
   "execution_count": 130,
   "id": "4d1f4748",
   "metadata": {},
   "outputs": [],
   "source": [
    "x = abalone_clean_data_standard.drop([\"Rings\"],axis=1)\n",
    "y = abalone_clean_data_standard.Rings\n",
    "# y is float value and we will categorize ouput in two categories 0 and 1\n",
    "y = np.where(y > 10,1,0)"
   ]
  },
  {
   "cell_type": "code",
   "execution_count": 131,
   "id": "b037ee4a",
   "metadata": {},
   "outputs": [
    {
     "data": {
      "text/plain": [
       "array([0, 0, 0, ..., 0, 0, 1])"
      ]
     },
     "execution_count": 131,
     "metadata": {},
     "output_type": "execute_result"
    }
   ],
   "source": [
    "train_x, test_x, train_y, test_y = train_test_split(x, y,random_state = 23,test_size=0.3)\n",
    "train_y"
   ]
  },
  {
   "cell_type": "code",
   "execution_count": 132,
   "id": "2c113a0f",
   "metadata": {},
   "outputs": [],
   "source": [
    "#Model Training\n",
    "logreg = LogisticRegression()\n",
    "logreg.fit(train_x,train_y)\n",
    "y_pred = logreg.predict(test_x) "
   ]
  },
  {
   "cell_type": "code",
   "execution_count": 133,
   "id": "7f09cd14",
   "metadata": {},
   "outputs": [
    {
     "name": "stdout",
     "output_type": "stream",
     "text": [
      "accuracy: 77.75119617224881%\n",
      "Mean absolute error: 0.22248803827751196\n",
      "Mean squared error: 0.22248803827751196\n",
      "R2 score: 0.009240249313990034\n",
      "intercept: [-1.5174329]\n"
     ]
    }
   ],
   "source": [
    "from sklearn.metrics import accuracy_score\n",
    "from sklearn.metrics import mean_absolute_error, mean_squared_error, r2_score , classification_report\n",
    "print(\"accuracy: \"+ str(accuracy_score(test_y,y_pred)*100) + \"%\")\n",
    "print(\"Mean absolute error: {}\".format(mean_absolute_error(test_y,y_pred)))\n",
    "print(\"Mean squared error: {}\".format(mean_squared_error(test_y,y_pred)))\n",
    "print(\"R2 score: {}\".format(r2_score(test_y, y_pred)))\n",
    "print(\"intercept: {}\".format(logreg.intercept_))"
   ]
  },
  {
   "cell_type": "code",
   "execution_count": 134,
   "id": "515806e9",
   "metadata": {},
   "outputs": [
    {
     "name": "stdout",
     "output_type": "stream",
     "text": [
      "              precision    recall  f1-score   support\n",
      "\n",
      "           0       0.80      0.88      0.84       827\n",
      "           1       0.71      0.58      0.64       427\n",
      "\n",
      "    accuracy                           0.78      1254\n",
      "   macro avg       0.76      0.73      0.74      1254\n",
      "weighted avg       0.77      0.78      0.77      1254\n",
      "\n"
     ]
    }
   ],
   "source": [
    "print(classification_report(test_y, y_pred))"
   ]
  },
  {
   "cell_type": "code",
   "execution_count": 135,
   "id": "b79ac9a9",
   "metadata": {},
   "outputs": [
    {
     "name": "stdout",
     "output_type": "stream",
     "text": [
      "['Sex', 'Length', 'Diameter', 'Height', 'Whole weight', 'Shucked weight', 'Viscera weight', 'Shell weight']\n"
     ]
    }
   ],
   "source": [
    "#Linear Regresi\n",
    "xn = ['Sex']\n",
    "xq = ['Length','Diameter','Height','Whole weight','Shucked weight','Viscera weight','Shell weight']\n",
    "x = xn + xq\n",
    "# y data labels\n",
    "y = ['Rings']\n",
    "\n",
    "print(x)"
   ]
  },
  {
   "cell_type": "code",
   "execution_count": 136,
   "id": "b370dae0",
   "metadata": {},
   "outputs": [
    {
     "name": "stdout",
     "output_type": "stream",
     "text": [
      "['Rings']\n"
     ]
    }
   ],
   "source": [
    "print(y)"
   ]
  },
  {
   "cell_type": "code",
   "execution_count": 137,
   "id": "ec2e65fb",
   "metadata": {},
   "outputs": [
    {
     "data": {
      "text/plain": [
       "LinearRegression(fit_intercept=False)"
      ]
     },
     "execution_count": 137,
     "metadata": {},
     "output_type": "execute_result"
    }
   ],
   "source": [
    "#Membuat model\n",
    "from sklearn import linear_model\n",
    "lmreg = linear_model.LinearRegression( fit_intercept = False )\n",
    "lmreg.fit( abalone_clean_data_standard[xq], abalone_clean_data_standard[y] )"
   ]
  },
  {
   "cell_type": "code",
   "execution_count": 138,
   "id": "d7c1f9b8",
   "metadata": {},
   "outputs": [
    {
     "data": {
      "text/plain": [
       "array([[ 2.73007582e-03,  6.25210601e-01,  3.00904926e-01,\n",
       "        -3.63184386e+00, -1.22179099e+00,  2.78413384e-01,\n",
       "         4.10737716e+01]])"
      ]
     },
     "execution_count": 138,
     "metadata": {},
     "output_type": "execute_result"
    }
   ],
   "source": [
    "lmreg.coef_"
   ]
  },
  {
   "cell_type": "code",
   "execution_count": 139,
   "id": "765e8b75",
   "metadata": {},
   "outputs": [
    {
     "data": {
      "text/plain": [
       "0.43354598461469307"
      ]
     },
     "execution_count": 139,
     "metadata": {},
     "output_type": "execute_result"
    }
   ],
   "source": [
    "lmreg.score(abalone_clean_data_standard[xq],abalone_clean_data_standard[y])"
   ]
  },
  {
   "cell_type": "code",
   "execution_count": 144,
   "id": "35e68669",
   "metadata": {},
   "outputs": [
    {
     "name": "stdout",
     "output_type": "stream",
     "text": [
      "scikit-learn linear regression model:\n",
      "mean response value = 9.93\n",
      "L2 residual = 3.22\n"
     ]
    }
   ],
   "source": [
    "mean = abalone_clean_data_standard['Rings'].mean()\n",
    "var = np.sqrt(abalone_clean_data_standard['Rings'].var())\n",
    "print (\"scikit-learn linear regression model:\")\n",
    "print (\"mean response value = %0.2f\"%(mean))\n",
    "print (\"L2 residual = %0.2f\"%(var))"
   ]
  },
  {
   "cell_type": "code",
   "execution_count": null,
   "id": "8b78b4c0",
   "metadata": {},
   "outputs": [],
   "source": [
    "#Dari keempat metode tersebut logistik regression memiliki tingkat akurasi paling tinggi untuk kasus data abalone dengan akurasi\n",
    "# 77% dan decision tree memiliki akurasi paling rendah yaitu 37%"
   ]
  }
 ],
 "metadata": {
  "kernelspec": {
   "display_name": "Python 3 (ipykernel)",
   "language": "python",
   "name": "python3"
  },
  "language_info": {
   "codemirror_mode": {
    "name": "ipython",
    "version": 3
   },
   "file_extension": ".py",
   "mimetype": "text/x-python",
   "name": "python",
   "nbconvert_exporter": "python",
   "pygments_lexer": "ipython3",
   "version": "3.9.7"
  }
 },
 "nbformat": 4,
 "nbformat_minor": 5
}
